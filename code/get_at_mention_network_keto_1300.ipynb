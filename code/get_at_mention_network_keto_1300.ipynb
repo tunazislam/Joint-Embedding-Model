{
 "cells": [
  {
   "cell_type": "code",
   "execution_count": null,
   "metadata": {},
   "outputs": [],
   "source": [
    "import pandas as pd \n",
    "import numpy as np \n",
    "from collections import defaultdict\n",
    "import re\n",
    "import sys\n",
    "from sklearn.model_selection import train_test_split\n",
    "import gzip\n",
    "import yaml\n",
    "import requests\n",
    "import csv\n",
    "import re\n",
    "from tqdm import tqdm\n",
    "from itertools import product\n",
    "import json\n",
    "import pickle\n",
    "import matplotlib.pyplot as plt\n",
    "from itertools import cycle, islice\n",
    "\n",
    "#weakly_all_des_gt_mergetweets_yoga_13k.csv"
   ]
  },
  {
   "cell_type": "code",
   "execution_count": null,
   "metadata": {},
   "outputs": [],
   "source": [
    "df= pd.read_csv('data/weakly_gt_mergetweets_keto_1300.csv', low_memory = False, encoding= 'unicode_escape') #15k yoga\n",
    "print (\"shape \", df.shape) #shape   (13301, 6)\n",
    "print(df)\n",
    "\n",
    "\n",
    "\n"
   ]
  },
  {
   "cell_type": "code",
   "execution_count": null,
   "metadata": {},
   "outputs": [],
   "source": [
    "df.head(10)"
   ]
  },
  {
   "cell_type": "code",
   "execution_count": null,
   "metadata": {},
   "outputs": [],
   "source": [
    "utype_gt = []\n",
    "     \n",
    "with open(\"data/utype_gt_keto_new.txt\") as file:\n",
    "    for i, gt in enumerate(file): \n",
    "        #print(url, type(url))\n",
    "        gt = gt.replace('\\r','')\n",
    "        gt = gt.replace('\\n','')\n",
    "        #print(gt, type(gt))\n",
    "        utype_gt.append(gt)\n",
    "        "
   ]
  },
  {
   "cell_type": "code",
   "execution_count": null,
   "metadata": {},
   "outputs": [],
   "source": [
    "#utype_gt"
   ]
  },
  {
   "cell_type": "code",
   "execution_count": null,
   "metadata": {},
   "outputs": [],
   "source": [
    "df['utype_gt'] = utype_gt"
   ]
  },
  {
   "cell_type": "code",
   "execution_count": null,
   "metadata": {},
   "outputs": [],
   "source": [
    "# df_gt= pd.read_csv('data/weakly_gt_mergetweets_keto_1300_v7.csv', low_memory = False, encoding= 'unicode_escape') #15k yoga\n",
    "# print (\"shape \", df_gt.shape) \n",
    "# print(df_gt.head(10))\n"
   ]
  },
  {
   "cell_type": "code",
   "execution_count": null,
   "metadata": {},
   "outputs": [],
   "source": [
    "df"
   ]
  },
  {
   "cell_type": "code",
   "execution_count": null,
   "metadata": {},
   "outputs": [],
   "source": [
    "###get unique id for 1300 keto users\n",
    "uid = list(range(1, 1301))\n",
    "#print(uid, len(uid))"
   ]
  },
  {
   "cell_type": "code",
   "execution_count": null,
   "metadata": {},
   "outputs": [],
   "source": [
    "df['uid'] = uid"
   ]
  },
  {
   "cell_type": "code",
   "execution_count": null,
   "metadata": {},
   "outputs": [],
   "source": [
    "df.drop(['utype'], axis=1, inplace=True) #for keto"
   ]
  },
  {
   "cell_type": "code",
   "execution_count": null,
   "metadata": {},
   "outputs": [],
   "source": [
    "df"
   ]
  },
  {
   "cell_type": "code",
   "execution_count": null,
   "metadata": {},
   "outputs": [],
   "source": [
    "#df.to_csv('data/weakly_gt_mergetweets_keto_gt_1300.csv', line_terminator='\\r\\n', encoding='utf-8', index = False) \n",
    "df.to_csv('data/keto_mergetweets_gt_1300.csv', line_terminator='\\r\\n', encoding='utf-8', index = False) "
   ]
  },
  {
   "cell_type": "code",
   "execution_count": null,
   "metadata": {},
   "outputs": [],
   "source": [
    "##save keto 1300 users\n",
    "file1 = open(\"data/user_keto_1300.txt\",\"w+\")#write mode \n",
    "for i in df.name.values:\n",
    "    #print(i)\n",
    "    file1.write(str(i)+'\\n') \n",
    "file1.close() \n",
    "\n"
   ]
  },
  {
   "cell_type": "code",
   "execution_count": null,
   "metadata": {},
   "outputs": [],
   "source": [
    "#randomly select 260 test data\n",
    "#test_keto = df.sample(n = 260, random_state = 42) \n",
    "test_keto = df.sample(frac=0.2, random_state = 42) "
   ]
  },
  {
   "cell_type": "code",
   "execution_count": null,
   "metadata": {},
   "outputs": [],
   "source": [
    "#print(test_keto)\n",
    "##save 20% (260) test keto users\n",
    "file1 = open(\"data/test_keto.txt\",\"w+\")#write mode \n",
    "for i in test_keto.name.values:\n",
    "    print(i)\n",
    "    file1.write(str(i)+'\\n') \n",
    "file1.close() \n"
   ]
  },
  {
   "cell_type": "code",
   "execution_count": null,
   "metadata": {},
   "outputs": [],
   "source": [
    "#select 80% train data\n",
    "train_keto=df.drop(test_keto.index)"
   ]
  },
  {
   "cell_type": "code",
   "execution_count": null,
   "metadata": {},
   "outputs": [],
   "source": [
    "# #print(train_keto)\n",
    "##save 80% (1040) train keto users\n",
    "file1 = open(\"data/train_keto.txt\",\"w+\")#write mode \n",
    "for i in train_keto.name.values:\n",
    "    print(i)\n",
    "    file1.write(str(i)+'\\n') \n",
    "file1.close() \n"
   ]
  },
  {
   "cell_type": "code",
   "execution_count": null,
   "metadata": {},
   "outputs": [],
   "source": [
    "name = df.name.values"
   ]
  },
  {
   "cell_type": "code",
   "execution_count": null,
   "metadata": {},
   "outputs": [],
   "source": [
    "csv.field_size_limit(sys.maxsize)\n",
    "reader = csv.DictReader(open('data/weakly_gt_mergetweets_keto_1300.csv'))\n",
    "\n",
    "result_13k = {}\n",
    "for row in reader:\n",
    "   #print(row)\n",
    "    key = row.pop('name')\n",
    "    if key in result_13k:\n",
    "        # implement your duplicate row handling here\n",
    "        pass\n",
    "    result_13k[key] = row\n"
   ]
  },
  {
   "cell_type": "code",
   "execution_count": null,
   "metadata": {},
   "outputs": [],
   "source": [
    "#result_13k"
   ]
  },
  {
   "cell_type": "code",
   "execution_count": null,
   "metadata": {},
   "outputs": [],
   "source": [
    "def search(myDict, lookup):\n",
    "    #print('lookup', lookup)\n",
    "    user = []\n",
    "    for key, value in myDict.items():\n",
    "        #print('key', key)\n",
    "        for k, v in value.items():\n",
    "            #print(v)\n",
    "            if lookup in v:\n",
    "                #print('hi')\n",
    "                user.append(key)\n",
    "    return user\n",
    "\n"
   ]
  },
  {
   "cell_type": "code",
   "execution_count": null,
   "metadata": {},
   "outputs": [],
   "source": [
    "mention = {}\n",
    "for i in name:\n",
    "    print(\"i\", i)\n",
    "    user = search(result_13k, i)\n",
    "    print('user', user)\n",
    "    mention[i] = user\n",
    "\n",
    "# user = search(result_13k, '@narendramodi')\n",
    "# print('user', user)"
   ]
  },
  {
   "cell_type": "code",
   "execution_count": null,
   "metadata": {},
   "outputs": [],
   "source": [
    "print(len(mention))"
   ]
  },
  {
   "cell_type": "code",
   "execution_count": null,
   "metadata": {},
   "outputs": [],
   "source": [
    "mention"
   ]
  },
  {
   "cell_type": "code",
   "execution_count": null,
   "metadata": {},
   "outputs": [],
   "source": [
    "# with open('data/at_mention_keto_1300.pickle', 'wb') as out_file:\n",
    "#         pickle.dump([mention], out_file)\n"
   ]
  },
  {
   "cell_type": "code",
   "execution_count": null,
   "metadata": {},
   "outputs": [],
   "source": [
    "with open('data/at_mention_keto_1300.pickle', 'rb') as in_file:\n",
    "        [name2mention]=pickle.load(in_file)"
   ]
  },
  {
   "cell_type": "code",
   "execution_count": null,
   "metadata": {},
   "outputs": [],
   "source": [
    "len(name2mention)"
   ]
  },
  {
   "cell_type": "code",
   "execution_count": null,
   "metadata": {},
   "outputs": [],
   "source": [
    "##save @_mentioned users who are inside in our data\n",
    "f = open('data/keto_graph_@mention.txt', 'w')\n",
    "for k,v in name2mention.items():\n",
    "    if v:\n",
    "        #print (k)\n",
    "        #print(len(v))\n",
    "        if len(v) == 1: ###one user mentions only one user in our data\n",
    "            f.write(k +'\\t'+v[0]+'\\n')\n",
    "            #print(v[0])\n",
    "        else:\n",
    "            for i in v:\n",
    "                f.write(k +'\\t'+i+'\\n')\n",
    "                #print(i)\n",
    "                \n",
    "f.close()           "
   ]
  },
  {
   "cell_type": "code",
   "execution_count": null,
   "metadata": {},
   "outputs": [],
   "source": [
    "##number of nodes\n",
    "count_node = 0\n",
    "for k,v in name2mention.items():\n",
    "    if v:\n",
    "        count_node = count_node + 1\n",
    "        \n",
    "print('count_node', count_node) #nodes= 234, edges= 809\n",
    "        "
   ]
  },
  {
   "cell_type": "code",
   "execution_count": null,
   "metadata": {},
   "outputs": [],
   "source": [
    "\n",
    "# ##get utype for an_mentioned network user\n",
    "# ####save @_mentioned users utype in a file \n",
    "# f1 = open('data/utype_@mention_keto.txt', 'w')\n",
    "# # for k,v in name2mention.items():\n",
    "# #     #if v:\n",
    "# for key, val in result_13k.items():\n",
    "#     #if k == key:\n",
    "#     #print(key + '\\t' + val['utype'])\n",
    "#     f1.write(k + '\\t' + val['utype'] + '\\n')\n",
    "#         #break\n",
    "        \n",
    "# f1.close()"
   ]
  }
 ],
 "metadata": {
  "kernelspec": {
   "display_name": "Python 3",
   "language": "python",
   "name": "python3"
  },
  "language_info": {
   "codemirror_mode": {
    "name": "ipython",
    "version": 3
   },
   "file_extension": ".py",
   "mimetype": "text/x-python",
   "name": "python",
   "nbconvert_exporter": "python",
   "pygments_lexer": "ipython3",
   "version": "3.6.6"
  }
 },
 "nbformat": 4,
 "nbformat_minor": 4
}
